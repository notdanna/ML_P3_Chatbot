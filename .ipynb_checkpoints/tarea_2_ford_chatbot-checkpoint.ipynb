{
 "cells": [
  {
   "cell_type": "markdown",
   "metadata": {
    "id": "R0udSu24mJS6"
   },
   "source": [
    "# Chatbot agencia ford"
   ]
  },
  {
   "cell_type": "code",
   "execution_count": 1,
   "metadata": {
    "id": "ddXRY3homJS8"
   },
   "outputs": [],
   "source": [
    "#inicialización de estados\n",
    "import re\n",
    "import time\n",
    "from datetime import datetime, date, timedelta"
   ]
  },
  {
   "cell_type": "code",
   "execution_count": 2,
   "metadata": {
    "id": "G83YtbkomJTB"
   },
   "outputs": [],
   "source": [
    " # Lenguaje natural por expresiones regulares\n",
    "Promo_RE = r\"[pP]romociones|[Pp]romos|[dD]escuentos|[qQ]uiero (las|los) (|promociones|descuentos)\"\n",
    "Cita_RE = r\"([Cc]ita|[hH]acer|[Aa]genda(r|)(| servicio))(| [cC]ita)|[nN]ecesito un servicio|[Qq]uiero agendar cita|servicio\"\n",
    "Venta_RE = r\"[vV]enta(s|)|[Cc]ompra(r|)|[qQ]uiero|[vV]enden\"\n",
    "placa_Re = r\"\\d\\d\\d[\\s| |-]?\\w\\w\\w\"\n",
    "afirmacion_RE = r\"[Ss][íi|] ([Cc]laro|[Gg]racias)|[Cc]laro|[dD]efinitivamente|[Pp]or supuesto|[Gg]racias|[Pp]or favor|[sS][íi]\"\n",
    "salir_RE = r\"[sS]alir|[mM]e equivoque|[pP]erd[oó]n|[aA]di[óo]s|[lL]a cague|[uU]ps|[sS]orry|[eE]rror|[Nn]o|[fF]all[ao]|[sS]kype|[dD]eseo (salir|interrumpir)| \"\n"
   ]
  },
  {
   "cell_type": "code",
   "execution_count": null,
   "metadata": {
    "colab": {
     "base_uri": "https://localhost:8080/",
     "height": 834
    },
    "id": "eHPKUA-dmJTF",
    "outputId": "c09542ca-2851-4724-c83b-4f543836dee5"
   },
   "outputs": [],
   "source": [
    "state=0\n",
    "Salida=1\n",
    "while Salida:\n",
    "    if state==0:\n",
    "        print(\"Hola soy el Chatbot de la FORD ¿En qué te puedo ayudar?\")\n",
    "        time.sleep(1)\n",
    "        opcion=input(\"Soy capaz de informarte de nuestras promociones, venta de vehículos y ayudarte a agendar un cita. \\n\\t\\t\\t\")\n",
    "        if re.findall(Promo_RE, opcion, flags=0)!=[]:\n",
    "            state=1\n",
    "        elif re.findall(Cita_RE, opcion, flags=0)!=[]:\n",
    "            state=2\n",
    "        elif re.findall(Venta_RE, opcion, flags=0)!=[]:\n",
    "            state=11\n",
    "        elif re.findall(salir_RE, opcion, flags=0)!=[]:\n",
    "            state=7\n",
    "        else :\n",
    "          state =8\n",
    "    if state == 1:\n",
    "        print(\"Nuestras promociones son...\")\n",
    "        state=6\n",
    "    if state == 2:\n",
    "        name = input(\"Dime tu nombre para agendar la cita. \\n\\t\\t\\t\")\n",
    "        state = 4\n",
    "    if state == 3:\n",
    "        print(\"En un momento te contactara un agente de ventas\")\n",
    "        state=6\n",
    "    if state == 4:\n",
    "        placa = input(\"Podrias proporcionarme tu placa. \\n\\t\\t\\t\")\n",
    "        if re.findall(placa_Re, placa, flags=0)!=[]:\n",
    "            state = 9\n",
    "        else:\n",
    "            print(\"Placa Invalida\")\n",
    "    if state == 5:\n",
    "        print(\"Gracias {} en un momento te atendera un operador\".format(name))\n",
    "        state=0\n",
    "    if state == 6:\n",
    "        opcion=input(\"¿te puedo ayudar en algo más?  \\n\\t\\t\\t\")\n",
    "        if re.findall(afirmacion_RE, opcion, flags=0!=[]):\n",
    "            state = 0\n",
    "        elif re.findall(salir_RE, opcion, flags=0!=[]):\n",
    "            state = 7\n",
    "\n",
    "        else:\n",
    "            print(\"No pudimos procesar tu información seras redireccionado al menu de inicio\")\n",
    "            state = 0\n",
    "    if state == 7:\n",
    "      print(\"Gracias fue un placer atenderte\")\n",
    "      Salida=0\n",
    "    if state == 8:\n",
    "      print(\"La opción no pudo ser procesada\")\n",
    "      state=0\n",
    "    if state == 9:\n",
    "      print(\"Me podrias dar la fecha que deseas agendar, estamos disponibles los 7 dias\")\n",
    "      pes=29\n",
    "      pmes=1\n",
    "      pano=2020\n",
    "      dia=int(input(\"Día\"))\n",
    "      mes=int(input(\"mes\"))\n",
    "      ano=int(input(\"Año\"))\n",
    "      fecha = datetime.now().date()\n",
    "      fecha_dada = datetime(ano, mes, dia)\n",
    "      fecha_final = fecha_dada.strftime('%Y-%m-%d')\n",
    "      fecha_max = datetime(2020,5,30)\n",
    "      fecha_tot = fecha_max.strftime('%Y-%m-%d')\n",
    "      if str(fecha_final) == str(fecha):\n",
    "        print(\"No puedes agendar cita para el día de hoy\")\n",
    "        state=9\n",
    "      elif str(fecha_final) < str(fecha):\n",
    "        print(\"No puedes agendar fechas pasadas\")\n",
    "        state=9\n",
    "      elif str(fecha) > str(fecha_tot):\n",
    "        print(\"Aún no tenemos fechas tan lejanas\")\n",
    "        state=9\n",
    "      else:\n",
    "        state=10\n",
    "    if state ==10:\n",
    "      print (\"ahora me puedes dar la hora, estamos disponibles de 9:00 a 18:00,recuerda las citas duran 1 hora\")\n",
    "      hora=int(input(\"Hora\"))\n",
    "      if hora < 9 :\n",
    "          print (\"A esa hora aún no estamos en servicio\")\n",
    "          state=10\n",
    "      elif hora>17:\n",
    "          print (\"A esa horano ya nos retiramos lo siento\")\n",
    "          state=10\n",
    "      else:\n",
    "          print (\"Listo tus datos han sido tomados te comunicaremos al operador para completar la cita\")\n",
    "          state=3\n",
    "    if state ==11:\n",
    "      print(\"Me puedes dar tu correo electronico\")\n",
    "      correo=input()\n",
    "      if re.match('^[(a-z0-9\\_\\-\\.)]+@[(a-z0-9\\_\\-\\.)]+\\.[(a-z)]{2,15}$',correo.lower()):\n",
    "        print (\"Correo correcto\")\n",
    "        state=3\n",
    "      else:\n",
    "        print (\"Correo incorrecto\")\n",
    "        state=11\n",
    "\n"
   ]
  },
  {
   "cell_type": "code",
   "execution_count": null,
   "metadata": {
    "id": "wbnr4OlBbtlk"
   },
   "outputs": [],
   "source": []
  }
 ],
 "metadata": {
  "colab": {
   "provenance": []
  },
  "kernelspec": {
   "display_name": "ml",
   "language": "python",
   "name": "python3"
  },
  "language_info": {
   "codemirror_mode": {
    "name": "ipython",
    "version": 3
   },
   "file_extension": ".py",
   "mimetype": "text/x-python",
   "name": "python",
   "nbconvert_exporter": "python",
   "pygments_lexer": "ipython3",
   "version": "3.10.18"
  }
 },
 "nbformat": 4,
 "nbformat_minor": 4
}
